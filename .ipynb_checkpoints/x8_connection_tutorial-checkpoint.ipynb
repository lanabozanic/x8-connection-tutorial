{
 "cells": [
  {
   "cell_type": "markdown",
   "id": "d9df02df",
   "metadata": {},
   "source": [
    "## Accessing the X8 Machine Tutorial\n",
    "\n",
    "\n",
    "In this notebook you will find the steps to connect to and submit jobs to Xanadu's hardware from their cloud computing services.\n",
    "\n",
    "#### Generate API Key\n",
    "\n",
    "First, go to https://cloud.xanadu.ai and create an account. Then, you'll need to generate an API Key to connect to their machines. This can be achieved by navigating to your API Keys page (as shown below).\n",
    "\n",
    "![image](Gen_API_Key.png) \n",
    "\n",
    "#### Connect to the Machine\n",
    "\n",
    "To connect to, and use the Xanadu X8 photonic device, you must first install the strawberryfields and Xanadu Cloud Client (XCC) python packages. You may do so by running the following commands in your notebook or terminal"
   ]
  },
  {
   "cell_type": "code",
   "execution_count": null,
   "id": "10f286f5",
   "metadata": {},
   "outputs": [],
   "source": [
    "# Omit the \"!\" if you are downloading the packages from your terminal\n",
    "!pip install strawberryfields\n",
    "!pip install xcc"
   ]
  },
  {
   "cell_type": "markdown",
   "id": "6ec08bb4",
   "metadata": {},
   "source": [
    "Then, to connect remotely to the X8 machine run the following block of code:"
   ]
  },
  {
   "cell_type": "code",
   "execution_count": 3,
   "id": "a04c8154",
   "metadata": {},
   "outputs": [],
   "source": [
    "import xcc\n",
    "xcc.Settings(REFRESH_TOKEN=\"INSERT TOKEN HERE\").save()"
   ]
  },
  {
   "cell_type": "markdown",
   "id": "6f546316",
   "metadata": {},
   "source": [
    "To check your connection to the machine, you can run the following command:"
   ]
  },
  {
   "cell_type": "code",
   "execution_count": 4,
   "id": "299d779d",
   "metadata": {},
   "outputs": [
    {
     "data": {
      "text/plain": [
       "'Successfully connected to the Xanadu Cloud.'"
      ]
     },
     "execution_count": 4,
     "metadata": {},
     "output_type": "execute_result"
    }
   ],
   "source": [
    "import xcc.commands\n",
    "xcc.commands.ping()"
   ]
  },
  {
   "cell_type": "markdown",
   "id": "34ce94e2",
   "metadata": {},
   "source": [
    "#### Congratulations! You're connected to the X8 Chip!\n",
    "\n",
    "Now that you're connected to the photonic device, you can run experiments remotely using Xanadu's [strawberry fields](https://strawberryfields.ai) package. However, there are limitations. Below you can find the architecture of the X8 chip. Any circuits you'd like to evaluate on the chip must adhere to the restrictions below:\n",
    "\n",
    "- The initial states are two-mode squezed states, where qumodes 0-3 are the signal modes, and qumodes 4-7 are the idler modes. The pairs are (0,4),(1,5),(2,6),(3,7). Note: the S2 gate (that generate the two-mode states between these pairs) only corrently supports (r=1, phi=0) and (r=0, phi=0) (no squeezing)\n",
    "- Arbitrary 4x4 unitary operation must be applied to both the signal modes and idler modes. The unitary consists of the operations BSgate, MZgate, Rgate and Interferometer. This is where we get creative freedom to implement what we want.\n",
    "- Non-gaussian photon counting measurement is performed at the end of the evolution.\n",
    "\n",
    "\n",
    "<img src=\"X8Arch.png\" alt=\"drawing\" width=\"600\"/>\n",
    "\n"
   ]
  },
  {
   "cell_type": "markdown",
   "id": "49ae8be5",
   "metadata": {},
   "source": [
    "#### How to run a quantum circuit on X8\n",
    "\n",
    "Adhereing to the restrictions of the X8 chip, we can create a quantum circuit using strawberry fields and then submit the job remotely. First we import the necessary packages"
   ]
  },
  {
   "cell_type": "code",
   "execution_count": 5,
   "id": "a22dbc16",
   "metadata": {},
   "outputs": [],
   "source": [
    "import numpy as np\n",
    "\n",
    "import strawberryfields as sf\n",
    "from strawberryfields import ops\n",
    "from strawberryfields import RemoteEngine"
   ]
  },
  {
   "cell_type": "markdown",
   "id": "c96048c9",
   "metadata": {},
   "source": [
    "Then, we create an 8-qumode program (the object that strawberry fields uses to encode quantum circuits):"
   ]
  },
  {
   "cell_type": "code",
   "execution_count": 6,
   "id": "8989f40c",
   "metadata": {},
   "outputs": [],
   "source": [
    "prog = sf.Program(8, name=\"my_job\")"
   ]
  },
  {
   "cell_type": "markdown",
   "id": "ad01e100",
   "metadata": {},
   "source": [
    "Then we can create a quantum circuit as below:"
   ]
  },
  {
   "cell_type": "code",
   "execution_count": 7,
   "id": "dc102f89",
   "metadata": {},
   "outputs": [],
   "source": [
    "with prog.context as q:\n",
    "    # First, we generate the two-mode squeezed states using the S2 Gates.\n",
    "    ops.S2gate(1.0) | (q[0], q[4])\n",
    "    ops.S2gate(1.0) | (q[1], q[5])\n",
    "    ops.S2gate(1.0) | (q[3], q[7])\n",
    "\n",
    "    # Then, we apply a couple gates on our signal qumodes\n",
    "    ops.BSgate(0.543, 0.123) | (q[2], q[0])\n",
    "    ops.Rgate(0.453) | q[1]\n",
    "    ops.MZgate(0.65, -0.54) | (q[2], q[3])\n",
    "\n",
    "    # The same circuit must be applied to the idler modes.\n",
    "    ops.BSgate(0.543, 0.123) | (q[6], q[4])\n",
    "    ops.Rgate(0.453) | q[5]\n",
    "    ops.MZgate(0.65, -0.54) | (q[6], q[7])\n",
    "    \n",
    "    # measure using photon-counting \n",
    "    ops.MeasureFock() | q"
   ]
  },
  {
   "cell_type": "markdown",
   "id": "0003a470",
   "metadata": {},
   "source": [
    "Now all that is left to do is submit the job. We choose our engine:"
   ]
  },
  {
   "cell_type": "code",
   "execution_count": 8,
   "id": "8e640218",
   "metadata": {},
   "outputs": [],
   "source": [
    "eng = RemoteEngine(\"X8\")"
   ]
  },
  {
   "cell_type": "markdown",
   "id": "b72b29e1",
   "metadata": {},
   "source": [
    "Then we run our program on our selected backend:"
   ]
  },
  {
   "cell_type": "code",
   "execution_count": 9,
   "id": "23fe34a3",
   "metadata": {},
   "outputs": [
    {
     "name": "stderr",
     "output_type": "stream",
     "text": [
      "2023-09-14 13:48:00,630 - INFO - Compiling program for device X8_01 using compiler Xunitary.\n",
      "2023-09-14 13:48:19,533 - INFO - The remote job fc9bf0a3-0720-4f70-984f-765e67d0887b has been completed.\n"
     ]
    }
   ],
   "source": [
    "results = eng.run(prog, shots=1000)"
   ]
  },
  {
   "cell_type": "markdown",
   "id": "057f2db9",
   "metadata": {},
   "source": [
    "Then we can analyze the results of our job. The results will tell us how much photons were detected in each mode:"
   ]
  },
  {
   "cell_type": "code",
   "execution_count": 10,
   "id": "66a9308c",
   "metadata": {},
   "outputs": [
    {
     "name": "stdout",
     "output_type": "stream",
     "text": [
      "[[0 0 1 ... 1 0 0]\n",
      " [0 0 0 ... 0 0 1]\n",
      " [0 0 0 ... 0 0 0]\n",
      " ...\n",
      " [0 0 1 ... 0 1 0]\n",
      " [1 2 2 ... 0 0 0]\n",
      " [1 1 0 ... 0 0 0]]\n"
     ]
    }
   ],
   "source": [
    "print(results.samples)"
   ]
  },
  {
   "cell_type": "markdown",
   "id": "c5fd0d65",
   "metadata": {},
   "source": [
    "We can also determine the mean amount of photons found in each mode:"
   ]
  },
  {
   "cell_type": "code",
   "execution_count": 12,
   "id": "abe2b175",
   "metadata": {},
   "outputs": [
    {
     "name": "stdout",
     "output_type": "stream",
     "text": [
      "[0.329 0.451 0.351 0.122 0.32  0.435 0.371 0.185]\n"
     ]
    }
   ],
   "source": [
    "print(np.mean(results.samples, axis=0))"
   ]
  },
  {
   "cell_type": "code",
   "execution_count": null,
   "id": "9574eaf7",
   "metadata": {},
   "outputs": [],
   "source": []
  }
 ],
 "metadata": {
  "kernelspec": {
   "display_name": "Python 3",
   "language": "python",
   "name": "python3"
  },
  "language_info": {
   "codemirror_mode": {
    "name": "ipython",
    "version": 3
   },
   "file_extension": ".py",
   "mimetype": "text/x-python",
   "name": "python",
   "nbconvert_exporter": "python",
   "pygments_lexer": "ipython3",
   "version": "3.8.8"
  }
 },
 "nbformat": 4,
 "nbformat_minor": 5
}
